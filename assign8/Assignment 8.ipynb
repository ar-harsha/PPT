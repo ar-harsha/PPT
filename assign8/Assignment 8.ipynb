{
 "cells": [
  {
   "cell_type": "code",
   "execution_count": 21,
   "id": "8deaf0ef",
   "metadata": {},
   "outputs": [
    {
     "data": {
      "text/plain": [
       "201"
      ]
     },
     "execution_count": 21,
     "metadata": {},
     "output_type": "execute_result"
    }
   ],
   "source": [
    "#apparantly this is wrong i dont know why?\n",
    "#i dont know dp yet\n",
    "def lowest_sum(s1,s2):\n",
    "    vis = [0 for i in range(26)]\n",
    "    ans = 0;\n",
    "    for i in s1:\n",
    "        vis[ord(i)-ord('a')]+=1\n",
    "    for i in s2:\n",
    "        if(vis[ord(i)-ord('a')]!=0):\n",
    "            vis[ord(i)-ord('a')]-=1\n",
    "        else:\n",
    "            vis[ord(i)-ord('a')]+=1\n",
    "    for i in range(len(vis)):\n",
    "        if(vis[i]!=0):\n",
    "            ans+=ord('a')+i\n",
    "    return ans\n",
    "\n",
    "\n",
    "lowest_sum(\"delete\",\"leet\")"
   ]
  },
  {
   "cell_type": "code",
   "execution_count": 27,
   "id": "7dbbc8c3",
   "metadata": {},
   "outputs": [
    {
     "data": {
      "text/plain": [
       "True"
      ]
     },
     "execution_count": 27,
     "metadata": {},
     "output_type": "execute_result"
    }
   ],
   "source": [
    "#* can be empty string or ( or )\n",
    "def valid(s):\n",
    "    l=0 \n",
    "    for i in s:\n",
    "    r=len(s)-1\n",
    "    for i in s:\n",
    "        l+=1 if (i=='(') else -1 #possibility\n",
    "        r+=1 if (i!=')') else -1 #balancing when ) occur\n",
    "        if(r<0):break\n",
    "        l = max(l,0)\n",
    "    return l==0\n",
    "\n",
    "s=\"(()**())\"    \n",
    "valid(s)"
   ]
  },
  {
   "cell_type": "code",
   "execution_count": 31,
   "id": "22b59333",
   "metadata": {},
   "outputs": [
    {
     "data": {
      "text/plain": [
       "2"
      ]
     },
     "execution_count": 31,
     "metadata": {},
     "output_type": "execute_result"
    }
   ],
   "source": [
    "def min_steps(s1,s2):\n",
    "    vis = [0 for i in range(26)]\n",
    "    for i in s1:\n",
    "        vis[ord(i)-ord('a')]+=1\n",
    "    for i in s2:\n",
    "        if(vis[ord(i)-ord('a')]!=0):\n",
    "            vis[ord(i)-ord('a')]-=1\n",
    "        else:\n",
    "            vis[ord(i)-ord('a')]+=1\n",
    "    return sum(vis)\n",
    "\n",
    "\n",
    "min_steps(\"eat\",\"sea\")"
   ]
  },
  {
   "cell_type": "code",
   "execution_count": 42,
   "id": "0300149c",
   "metadata": {},
   "outputs": [],
   "source": [
    "def tree(s):\n",
    "    ans = []\n",
    "    \n",
    "    \n",
    "    return ans\n",
    "\n",
    "tree(\"4(2(3)(4))(5(6))\")"
   ]
  },
  {
   "cell_type": "code",
   "execution_count": 49,
   "id": "571650c0",
   "metadata": {},
   "outputs": [
    {
     "name": "stdout",
     "output_type": "stream",
     "text": [
      "a2b2c3\n",
      "6\n",
      "a1b16\n",
      "5\n"
     ]
    }
   ],
   "source": [
    "def compress(s):\n",
    "    ans=\"\"\n",
    "    temp = s[0]\n",
    "    count = 0;sol =0 \n",
    "    for i in range(len(s)):\n",
    "        if(temp==s[i]):\n",
    "            count+=1\n",
    "        elif(temp!=s[i]):\n",
    "            ans+=(temp+str(count))\n",
    "            sol+=(1+len(str(count)))\n",
    "            count=1\n",
    "            temp = s[i]\n",
    "    ans+=(temp+str(count))\n",
    "    sol+=(1+len(str(count)))\n",
    "    print(ans)\n",
    "    return sol\n",
    "\n",
    "chars = [\"a\",\"a\",\"b\",\"b\",\"c\",\"c\",\"c\"]\n",
    "print(compress(chars))\n",
    "print(compress(\"abbbbbbbbbbbbbbbb\"))"
   ]
  },
  {
   "cell_type": "code",
   "execution_count": 54,
   "id": "a6f492cf",
   "metadata": {},
   "outputs": [
    {
     "name": "stdout",
     "output_type": "stream",
     "text": [
      "[0, 6]\n"
     ]
    }
   ],
   "source": [
    "def anagramindex(s,p):\n",
    "    viss = [0 for i in range(26)]\n",
    "    visp = [0 for i in range(26)]\n",
    "    \n",
    "    for i in range(len(p)):\n",
    "        visp[ord(p[i])-ord('a')]+=1\n",
    "        viss[ord(s[i])-ord('a')]+=1\n",
    "    ans = []\n",
    "    if(viss==visp):\n",
    "        ans.append(0)\n",
    "    for i in range(len(p),len(s)):\n",
    "        viss[ord(s[i-len(p)])-ord('a')]-=1\n",
    "        viss[ord(s[i])-ord('a')]+=1;\n",
    "        if(visp==viss):ans.append(i-len(p)+1)\n",
    "    return ans\n",
    "\n",
    "print(anagramindex('cbaebabacd','abc'))"
   ]
  },
  {
   "cell_type": "code",
   "execution_count": 66,
   "id": "dd390605",
   "metadata": {},
   "outputs": [
    {
     "name": "stdout",
     "output_type": "stream",
     "text": [
      "aaabcbc\n"
     ]
    }
   ],
   "source": [
    "def decoded(s):\n",
    "    ans = \"\"\n",
    "    temp=\"\"\n",
    "    op = 0;l=0;r=0;\n",
    "    for i in range(len(s)):\n",
    "        if(op==0 and s[i].isnumeric()):\n",
    "            num = int(s[i])\n",
    "        elif(s[i]=='['):\n",
    "            op+=1\n",
    "            l=i+1\n",
    "        elif(s[i]==']'):\n",
    "            op-=1\n",
    "            ans+=(s[l:i]*num)\n",
    "            r=i\n",
    "    return ans\n",
    "            \n",
    "            \n",
    "print(decoded(\"3[a]2[bc]\"))"
   ]
  },
  {
   "cell_type": "code",
   "execution_count": 4,
   "id": "767ac932",
   "metadata": {},
   "outputs": [
    {
     "name": "stdout",
     "output_type": "stream",
     "text": [
      "True\n"
     ]
    }
   ],
   "source": [
    "def swap(s1,s2):\n",
    "    if(len(s1)!=len(s2)):\n",
    "        return False\n",
    "    if(s1==s2):\n",
    "        #true if both swapping chars are equal\n",
    "        vis = [0 for i in range(26)]\n",
    "        for i in s1:\n",
    "            vis[ord(i)-ord('a')]+=1\n",
    "            if(vis[ord(i)-ord('a')]==2):\n",
    "                return True\n",
    "        return False\n",
    "    \n",
    "    ind1=-1;ind2=-1;\n",
    "    for i in range(len(s1)):\n",
    "        if s1[i]!=s2[i]:\n",
    "            if ind1==-1:\n",
    "                ind1=i\n",
    "            elif ind2==-1:\n",
    "                ind2=i\n",
    "            else:\n",
    "                #more than 2 chars are different\n",
    "                return False\n",
    "    if s1[ind1]==s2[ind2] and s1[ind2]==s2[ind1]:\n",
    "        return True\n",
    "        \n",
    "\n",
    "print(swap(\"abcd\",\"cbad\"))"
   ]
  },
  {
   "cell_type": "code",
   "execution_count": null,
   "id": "5886108c",
   "metadata": {},
   "outputs": [],
   "source": []
  }
 ],
 "metadata": {
  "kernelspec": {
   "display_name": "Python 3 (ipykernel)",
   "language": "python",
   "name": "python3"
  },
  "language_info": {
   "codemirror_mode": {
    "name": "ipython",
    "version": 3
   },
   "file_extension": ".py",
   "mimetype": "text/x-python",
   "name": "python",
   "nbconvert_exporter": "python",
   "pygments_lexer": "ipython3",
   "version": "3.9.12"
  }
 },
 "nbformat": 4,
 "nbformat_minor": 5
}
