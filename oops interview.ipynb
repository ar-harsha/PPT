{
 "cells": [
  {
   "cell_type": "markdown",
   "id": "f1db51e2",
   "metadata": {},
   "source": [
    "#### uses of scope resolution operator"
   ]
  },
  {
   "cell_type": "markdown",
   "id": "7257b000",
   "metadata": {},
   "source": [
    "-  To access a global variable when there is a local variable with same name:  ::globalvar\n",
    "- To define a function outside a class. \n",
    "- To access a class’s static variables. \n",
    "-  In case of multiple Inheritance: If the same variable name exists in two ancestor classes, we can use scope resolution operator to distinguish. \n",
    "- Refer to a class inside another class"
   ]
  },
  {
   "cell_type": "markdown",
   "id": "e8676ea9",
   "metadata": {},
   "source": [
    "#### templates\n",
    "\n",
    "- The simple idea is to pass the data type as a parameter so that we don’t need to write the same code for different data types"
   ]
  },
  {
   "cell_type": "code",
   "execution_count": null,
   "id": "01e67da4",
   "metadata": {},
   "outputs": [],
   "source": [
    "#functional tepmplate\n",
    "template <typename T> T mymax(T x,T y){\n",
    "    return (x>y)?x:y;\n",
    "}\n",
    "\n",
    "main(){\n",
    "    mymax<int>(3,7);\n",
    "    mymax<char>('b','g');\n",
    "}"
   ]
  },
  {
   "cell_type": "code",
   "execution_count": 2,
   "id": "d2bb03ed",
   "metadata": {},
   "outputs": [],
   "source": [
    "#class templates\n",
    "#include <iostream>\n",
    "using namespace std;\n",
    " \n",
    "template <typename T> class Array {\n",
    "private:\n",
    "    T* ptr;\n",
    "    int size;\n",
    " \n",
    "public:\n",
    "    Array(T arr[], int s);\n",
    "    void print();\n",
    "};\n",
    " \n",
    "template <typename T> Array<T>::Array(T arr[], int s)\n",
    "{\n",
    "    ptr = new T[s];\n",
    "    size = s;\n",
    "    for (int i = 0; i < size; i++)\n",
    "        ptr[i] = arr[i];\n",
    "}\n",
    " \n",
    "template <typename T> void Array<T>::print()\n",
    "{\n",
    "    for (int i = 0; i < size; i++)\n",
    "        cout << \" \" << *(ptr + i);\n",
    "    cout << endl;\n",
    "}\n",
    " \n",
    "int main()\n",
    "{\n",
    "    int arr[5] = { 1, 2, 3, 4, 5 };\n",
    "    Array<int> a(arr, 5);\n",
    "    a.print();\n",
    "    return 0;\n",
    "}"
   ]
  },
  {
   "cell_type": "code",
   "execution_count": null,
   "id": "bb31b69c",
   "metadata": {},
   "outputs": [],
   "source": [
    "#defalult value can be specifiedb\n",
    "template <class T, class U = char> class A {\n",
    "public:\n",
    "    T x;\n",
    "    U y;\n",
    "    A() { cout << \"Constructor Called\" << endl; }\n",
    "};"
   ]
  },
  {
   "cell_type": "markdown",
   "id": "6b1803c7",
   "metadata": {},
   "source": [
    "#### What is the difference between function overloading and templates? \n",
    "\n",
    "Both function overloading and templates are examples of polymorphism features of OOP. Function overloading is used when multiple functions do quite similar (not identical) operations, templates are used when multiple functions do identical operations."
   ]
  },
  {
   "cell_type": "markdown",
   "id": "0747f5b7",
   "metadata": {},
   "source": [
    "#### funcitonal overloading \n"
   ]
  },
  {
   "cell_type": "code",
   "execution_count": null,
   "id": "0e793797",
   "metadata": {},
   "outputs": [],
   "source": [
    "void add(int a, int b)\n",
    "{\n",
    "  cout << \"sum = \" << (a + b);\n",
    "}\n",
    " \n",
    "void add(int a, int b, int c)\n",
    "{\n",
    "    cout << endl << \"sum = \" << (a + b + c);\n",
    "}"
   ]
  },
  {
   "cell_type": "markdown",
   "id": "e027121f",
   "metadata": {},
   "source": [
    "####  What happens when there is a static member in a template class/function? \n",
    "\n",
    "Each instance of a template contains its own static variable."
   ]
  },
  {
   "cell_type": "markdown",
   "id": "4205c974",
   "metadata": {},
   "source": [
    "#### return 0\n",
    "\n",
    "its for os to inform that program is done\n",
    "\n",
    "#### command line argument sins c++\n",
    "\n",
    "(int argc, char *argv[])<br>\n",
    "argc - is number of inputs for the program + 1(program name) count\n",
    "argv - array of character pointers listing all argumnets vector"
   ]
  },
  {
   "cell_type": "markdown",
   "id": "8f75e027",
   "metadata": {},
   "source": [
    "#### typedf\n",
    "\n",
    "typedef keyword in C++ is used for aliasing existing data types, user-defined data types, and pointers to a more meaningful name.\n",
    "\n",
    "ex : typedef std::vector< int > vInt;"
   ]
  },
  {
   "cell_type": "code",
   "execution_count": null,
   "id": "ca801d45",
   "metadata": {},
   "outputs": [],
   "source": [
    "\n",
    "// A variable declaration with structure declaration.\n",
    "struct Point\n",
    "{\n",
    "   int x, y;\n",
    "} p1;  // The variable p1 is declared with 'Point'\n",
    " \n",
    " \n",
    "// A variable declaration like basic data types\n",
    "struct Point\n",
    "{\n",
    "   int x, y;\n",
    "};\n",
    " \n",
    "int main()\n",
    "{\n",
    "   struct Point p1;  // The variable p1 is declared like a normal variable\n",
    "}"
   ]
  },
  {
   "cell_type": "code",
   "execution_count": null,
   "id": "bee49055",
   "metadata": {},
   "outputs": [],
   "source": [
    "\n",
    "#include <iostream>\n",
    "using namespace std;\n",
    " \n",
    "struct Point {\n",
    "    int x, y;\n",
    "};\n",
    " \n",
    "int main()\n",
    "{\n",
    "    // Create an array of structures\n",
    "    struct Point arr[10];\n",
    " \n",
    "    // Access array members\n",
    "    arr[0].x = 10;\n",
    "    arr[0].y = 20;\n",
    " \n",
    "    cout << arr[0].x << \" \" << arr[0].y;\n",
    "    return 0;\n",
    "}"
   ]
  },
  {
   "cell_type": "code",
   "execution_count": null,
   "id": "fdc36059",
   "metadata": {},
   "outputs": [],
   "source": [
    "struct Point {\n",
    "    int x, y;\n",
    "};\n",
    " \n",
    "int main()\n",
    "{\n",
    "    struct Point p1 = { 1, 2 };\n",
    " \n",
    "    // p2 is a pointer to structure p1\n",
    "    struct Point* p2 = &p1;\n",
    " \n",
    "    // Accessing structure members using\n",
    "    // structure pointer\n",
    "    cout << p2->x << \" \" << p2->y;\n",
    "    return 0;\n",
    "}"
   ]
  },
  {
   "cell_type": "markdown",
   "id": "268dd288",
   "metadata": {},
   "source": [
    "#### Structure and Class in C++\n",
    "\n",
    "- class hides implementation details\n",
    "- class normally used for abstraction and inheritence\n",
    "- grouping or clustering of data "
   ]
  },
  {
   "cell_type": "markdown",
   "id": "d01451b5",
   "metadata": {},
   "source": [
    "#### namespace\n",
    "\n",
    "- Namespace provide the space where we can define or declare identifier i.e. variable,  method, classes.\n",
    "- namepsace defines a scope\n"
   ]
  },
  {
   "cell_type": "code",
   "execution_count": null,
   "id": "23f51e65",
   "metadata": {},
   "outputs": [],
   "source": [
    "#include <iostream>\n",
    "using namespace std;\n",
    " \n",
    "// first name space\n",
    "namespace first_space\n",
    "{\n",
    "  void func()\n",
    "  {\n",
    "     cout << \"Inside first_space\" << endl;\n",
    "  }\n",
    "  // second name space\n",
    "  namespace second_space\n",
    "  {\n",
    "     void func()\n",
    "     {\n",
    "        cout << \"Inside second_space\" << endl;\n",
    "     }\n",
    "  }\n",
    "}\n",
    "using namespace first_space::second_space;\n",
    "int main ()\n",
    "{\n",
    "    // This calls function from second name space.\n",
    "      func();\n",
    "   \n",
    "      return 0;\n",
    "}"
   ]
  },
  {
   "cell_type": "markdown",
   "id": "5c6b4113",
   "metadata": {},
   "source": [
    "#### Access Modifiers or Access Specifiers \n",
    "\n",
    "in a class are used to assign the accessibility to the class members, i.e., they set some restrictions on the class members so that they can’t be directly accessed by the outside functions."
   ]
  },
  {
   "cell_type": "markdown",
   "id": "8458b860",
   "metadata": {},
   "source": [
    "1. Public: All the class members declared under the public specifier will be available to everyone\n",
    "2. Private: The class members declared as private can be accessed only by the member functions inside the class. They are not allowed to be accessed directly by any object or function outside the class. Only the member functions or the friend functions are allowed to access the private data members of the class. \n",
    "3. Protected: The protected access modifier is similar to the private access modifier in the sense that it can’t be accessed outside of its class unless with the help of a friend class. The difference is that the class members declared as Protected can be accessed by any subclass (derived class) of that class as well. "
   ]
  },
  {
   "cell_type": "markdown",
   "id": "9c101e03",
   "metadata": {},
   "source": [
    "#### virtual funcitons\n",
    "\n",
    "member function that is declared within a base class and is re-defined (overridden) by a derived class.\n",
    "* purpose is runtime polymorphism\n",
    "* cant be static\n",
    "* can be accessed by poiunter or reference"
   ]
  },
  {
   "cell_type": "code",
   "execution_count": null,
   "id": "a82747a7",
   "metadata": {},
   "outputs": [],
   "source": [
    "class base {\n",
    "public:\n",
    "    virtual void print() { cout << \"print base class\\n\"; }\n",
    " \n",
    "    void show() { cout << \"show base class\\n\"; }\n",
    "};\n",
    " \n",
    "class derived : public base {\n",
    "public:\n",
    "    void print() { cout << \"print derived class\\n\"; }\n",
    " \n",
    "    void show() { cout << \"show derived class\\n\"; }\n",
    "};\n",
    " \n",
    "int main()\n",
    "{\n",
    "    base* bptr;\n",
    "    derived d;\n",
    "    bptr = &d;\n",
    " \n",
    "    // Virtual function, binded at runtime\n",
    "    //runtime polymorphism only be achieved using pointer\n",
    "    bptr->print();\n",
    " \n",
    "    // Non-virtual function, binded at compile time\n",
    "    bptr->show();\n",
    " \n",
    "    return 0;\n",
    "}"
   ]
  },
  {
   "cell_type": "markdown",
   "id": "ee0fbe24",
   "metadata": {},
   "source": [
    "#### Friend Class and Function \n",
    "\n",
    "A friend class can access private and protected members of other classes in which it is declared as a friend."
   ]
  },
  {
   "cell_type": "markdown",
   "id": "56b76bee",
   "metadata": {},
   "source": [
    "#### Inheritence\n",
    "\n",
    "The capability of a class to derive properties and characteristics from another class is called Inheritance."
   ]
  },
  {
   "cell_type": "code",
   "execution_count": 4,
   "id": "1ff927d9",
   "metadata": {},
   "outputs": [
    {
     "ename": "SyntaxError",
     "evalue": "invalid syntax (2863829194.py, line 1)",
     "output_type": "error",
     "traceback": [
      "\u001b[1;36m  Input \u001b[1;32mIn [4]\u001b[1;36m\u001b[0m\n\u001b[1;33m    class A {\u001b[0m\n\u001b[1;37m            ^\u001b[0m\n\u001b[1;31mSyntaxError\u001b[0m\u001b[1;31m:\u001b[0m invalid syntax\n"
     ]
    }
   ],
   "source": [
    "class A {\n",
    "public:\n",
    "    int x;\n",
    "  \n",
    "protected:\n",
    "    int y;\n",
    "  \n",
    "private:\n",
    "    int z;\n",
    "};\n",
    "  \n",
    "class B : public A {\n",
    "    // x is public\n",
    "    // y is protected\n",
    "    // z is not accessible from B\n",
    "};\n",
    "  \n",
    "class C : protected A {\n",
    "    // x is protected\n",
    "    // y is protected\n",
    "    // z is not accessible from C\n",
    "};\n",
    "  \n",
    "class D : private A // 'private' is default for classes\n",
    "{\n",
    "    // x is private\n",
    "    // y is private\n",
    "    // z is not accessible from D\n",
    "};"
   ]
  },
  {
   "cell_type": "markdown",
   "id": "22cc3f4b",
   "metadata": {},
   "source": [
    "#### Polymorphism\n",
    "\n",
    "we can define polymorphism as the ability of a message to be displayed in more than one form.\n",
    "- comiletime - funciton overloading and operator overloading\n",
    "- runtime - virtual funcitons"
   ]
  },
  {
   "cell_type": "markdown",
   "id": "9d4dc455",
   "metadata": {},
   "source": [
    "#### fcuntion oveloading\n",
    "\n",
    "When there are multiple functions with the same name but different parameters, then the functions are said to be overloaded"
   ]
  },
  {
   "cell_type": "code",
   "execution_count": null,
   "id": "b4c59664",
   "metadata": {},
   "outputs": [],
   "source": [
    "class Geeks {\n",
    "public:\n",
    "    // Function with 1 int parameter\n",
    "    void func(int x)\n",
    "    {\n",
    "        cout << \"value of x is \" << x << endl;\n",
    "    }\n",
    "  \n",
    "    // Function with same name but\n",
    "    // 1 double parameter\n",
    "    void func(double x)\n",
    "    {\n",
    "        cout << \"value of x is \" << x << endl;\n",
    "    }\n",
    "  \n",
    "    // Function with same name and\n",
    "    // 2 int parameters\n",
    "    void func(int x, int y)\n",
    "    {\n",
    "        cout << \"value of x and y is \" << x << \", \" << y\n",
    "             << endl;\n",
    "    }\n",
    "};\n",
    "  "
   ]
  },
  {
   "cell_type": "markdown",
   "id": "9c364e59",
   "metadata": {},
   "source": [
    "#### operator oveloading\n",
    "\n",
    "C++ has the ability to provide the operators with a special meaning for a data type, this ability is known as operator overloading"
   ]
  },
  {
   "cell_type": "code",
   "execution_count": null,
   "id": "d829b623",
   "metadata": {},
   "outputs": [],
   "source": [
    "class Complex {\n",
    "private:\n",
    "    int real, imag;\n",
    "  \n",
    "public:\n",
    "    Complex(int r = 0, int i = 0)\n",
    "    {\n",
    "        real = r;\n",
    "        imag = i;\n",
    "    }\n",
    "  \n",
    "    // This is automatically called\n",
    "    // when '+' is used with between\n",
    "    // two Complex objects\n",
    "    Complex operator+(Complex const& obj)\n",
    "    {\n",
    "        Complex res;\n",
    "        res.real = real + obj.real;\n",
    "        res.imag = imag + obj.imag;\n",
    "        return res;\n",
    "    }\n",
    "    void print() { cout << real << \" + i\" << imag << endl; }\n",
    "};"
   ]
  },
  {
   "cell_type": "markdown",
   "id": "8a6937ce",
   "metadata": {},
   "source": [
    "#### runtime funcitonal overriding (virual funciton)\n",
    "\n",
    "occurs when a derived class has a definition for one of the member functions of the base class. That base function is said to be overridden."
   ]
  },
  {
   "cell_type": "markdown",
   "id": "33a0591c",
   "metadata": {},
   "source": [
    "#### Encaplsulaiton\n",
    "\n",
    "Encapsulation in C++ is defined as the wrapping up of data and information in a single unit.\n",
    "- data protection\n",
    "- information hiding\n"
   ]
  },
  {
   "cell_type": "markdown",
   "id": "af98cb04",
   "metadata": {},
   "source": [
    "- We can not access any function from the class directly. We need an object to access that function that is using the member variables of that class. \n",
    "- The function which we are making inside the class must use only member variables, only then it is called encapsulation.\n",
    "- Increase in the security of data\n",
    "- It helps to control the modification of our data members."
   ]
  },
  {
   "cell_type": "markdown",
   "id": "421c1793",
   "metadata": {},
   "source": [
    "#### abstraction\n",
    "\n",
    "Abstraction means displaying only essential information and hiding the details. Data abstraction refers to providing only essential information about the data to the outside world, hiding the background details or implementation. "
   ]
  },
  {
   "cell_type": "markdown",
   "id": "2defaefa",
   "metadata": {},
   "source": [
    "- data abstraction == only shows requied info and hides unnecessary data\n",
    "- control abstraction == only shows required information about the implementation\n"
   ]
  },
  {
   "cell_type": "markdown",
   "id": "761882df",
   "metadata": {},
   "source": [
    "#### constructor\n",
    "\n",
    "- Constructor is a member function of a class, whose name is same as the class name.\n",
    "- Constructor is a special type of member function that is used to initialize the data members for an object of a class automatically, when an object of the same class is created.\n",
    "- Constructor is invoked at the time of object creation. It constructs the values i.e. provides data for the object that is why it is known as constructor.\n",
    "- Constructor do not return value, hence they do not have a return type."
   ]
  },
  {
   "cell_type": "code",
   "execution_count": null,
   "id": "34d48a6e",
   "metadata": {},
   "outputs": [],
   "source": [
    "#inside class\n",
    "class student\n",
    "{\n",
    "    int rno;\n",
    "    char name[50];\n",
    "    double fee;\n",
    "    public:\n",
    "    student()\n",
    "    {\n",
    "        cout<<\"Enter the RollNo:\";\n",
    "        cin>>rno;\n",
    "        cout<<\"Enter the Name:\";\n",
    "        cin>>name;\n",
    "        cout<<\"Enter the Fee:\";   \n",
    "        cin>>fee;\n",
    "    }   \n",
    "     \n",
    " \n",
    " \n",
    "    void display()\n",
    "    {\n",
    "        cout<<endl<<rno<<\"\\t\"<<name<<\"\\t\"<<fee;\n",
    "    }\n",
    "};"
   ]
  },
  {
   "cell_type": "code",
   "execution_count": null,
   "id": "822debda",
   "metadata": {},
   "outputs": [],
   "source": [
    "#outside class\n",
    "class student\n",
    "{\n",
    "    int rno;\n",
    "    char name[50];\n",
    "    double fee;\n",
    "    public:\n",
    "    student();\n",
    "    void display();\n",
    "     \n",
    "};\n",
    " \n",
    "    student::student()\n",
    "    {\n",
    "        cout<<\"Enter the RollNo:\";\n",
    "        cin>>rno;\n",
    "        cout<<\"Enter the Name:\";\n",
    "        cin>>name;\n",
    "        cout<<\"Enter the Fee:\";   \n",
    "        cin>>fee;\n",
    "    }   \n",
    " \n",
    "   void student::display()\n",
    "    {\n",
    "        cout<<endl<<rno<<\"\\t\"<<name<<\"\\t\"<<fee;\n",
    "    }"
   ]
  },
  {
   "cell_type": "markdown",
   "id": "1102790d",
   "metadata": {},
   "source": [
    "- default constructor\n",
    "- parametrizzed construtor\n",
    "- copy constructor (complex addition) process of initializing using an object "
   ]
  },
  {
   "cell_type": "markdown",
   "id": "550531f7",
   "metadata": {},
   "source": [
    "#### composition\n",
    "\n",
    "If a simple class objects are used as a member varaible in a class to creaete a complex class "
   ]
  },
  {
   "cell_type": "code",
   "execution_count": null,
   "id": "283aa733",
   "metadata": {},
   "outputs": [],
   "source": []
  }
 ],
 "metadata": {
  "kernelspec": {
   "display_name": "Python 3 (ipykernel)",
   "language": "python",
   "name": "python3"
  },
  "language_info": {
   "codemirror_mode": {
    "name": "ipython",
    "version": 3
   },
   "file_extension": ".py",
   "mimetype": "text/x-python",
   "name": "python",
   "nbconvert_exporter": "python",
   "pygments_lexer": "ipython3",
   "version": "3.9.12"
  }
 },
 "nbformat": 4,
 "nbformat_minor": 5
}
